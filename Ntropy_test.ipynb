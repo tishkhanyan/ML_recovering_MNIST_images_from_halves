{
 "cells": [
  {
   "cell_type": "code",
   "execution_count": null,
   "metadata": {
    "id": "8kjcRK95O_xr"
   },
   "outputs": [],
   "source": [
    "# TASK 1 (ML eng. only)\n",
    "\n",
    "# Imagine the digits in the test set of the MNIST dataset\n",
    "# (http://yann.lecun.com/exdb/mnist/) got cut in half vertically and shuffled around. Although the\n",
    "# two resulting halves of each image do not have any shared pixels, there are\n",
    "# similarities in their structure. Implement a way to restore the original test\n",
    "# set from the two halves, whilst maximising the overall matching accuracy."
   ]
  },
  {
   "cell_type": "markdown",
   "metadata": {
    "id": "Lv9t_TnBQrvq"
   },
   "source": [
    "my understanding of the problem: \n",
    "*   take the MNIST dataset (for example, train part with 60000 28*28 images),\n",
    "*   divide every image into two parts vertically,\n",
    "*   design some ML algorithm that is able to recover 60000 28*28 images having 120000 28*14 half-images  "
   ]
  },
  {
   "cell_type": "markdown",
   "metadata": {
    "id": "VzI-TvA7Q-T8"
   },
   "source": [
    "What I've done:\n",
    "*   wrote down a simple CNN that is making binary classification (i.e. true of fake image);\n",
    "*   this CNN wgets as an input some 28*28 image generated via concatenation of some two half-images 28*14 and generates a label 0 <-> fake and 1 <-> real image;\n",
    "*   for training I use 60000 MNIST 28*28 images as a real images and 60000 28*28 images generate from concatenation of shuffled 120000 28*14 half-images\n",
    "\n",
    "{Such an approach is used for GAN's (I've picked up the discriminator part from a simple GAN).}\n",
    "\n",
    "\n",
    "The general idea is to use a simple binary-classificator-CNN to train a model that understands if the 28*28 image is a mnist image or it is fake."
   ]
  },
  {
   "cell_type": "code",
   "execution_count": 1,
   "metadata": {
    "colab": {
     "base_uri": "https://localhost:8080/"
    },
    "id": "2cuzAnaxO_xv",
    "outputId": "bb89470d-62d7-4e1d-85b4-06b8f9c6f3c9"
   },
   "outputs": [
    {
     "name": "stdout",
     "output_type": "stream",
     "text": [
      ">1 real images acc=67% fake images acc=18%\n",
      ">2 real images acc=95% fake images acc=31%\n",
      ">3 real images acc=93% fake images acc=48%\n",
      ">4 real images acc=92% fake images acc=52%\n",
      ">5 real images acc=91% fake images acc=54%\n",
      ">6 real images acc=93% fake images acc=57%\n",
      ">7 real images acc=95% fake images acc=58%\n",
      ">8 real images acc=96% fake images acc=70%\n",
      ">9 real images acc=92% fake images acc=66%\n",
      ">10 real images acc=93% fake images acc=67%\n",
      ">11 real images acc=91% fake images acc=67%\n",
      ">12 real images acc=95% fake images acc=72%\n",
      ">13 real images acc=93% fake images acc=73%\n",
      ">14 real images acc=95% fake images acc=77%\n",
      ">15 real images acc=91% fake images acc=71%\n",
      ">16 real images acc=96% fake images acc=77%\n",
      ">17 real images acc=97% fake images acc=80%\n",
      ">18 real images acc=92% fake images acc=69%\n",
      ">19 real images acc=93% fake images acc=74%\n",
      ">20 real images acc=94% fake images acc=80%\n",
      ">21 real images acc=97% fake images acc=79%\n",
      ">22 real images acc=98% fake images acc=73%\n",
      ">23 real images acc=92% fake images acc=80%\n",
      ">24 real images acc=95% fake images acc=73%\n",
      ">25 real images acc=95% fake images acc=77%\n",
      ">26 real images acc=95% fake images acc=74%\n",
      ">27 real images acc=94% fake images acc=68%\n",
      ">28 real images acc=95% fake images acc=69%\n",
      ">29 real images acc=98% fake images acc=77%\n",
      ">30 real images acc=91% fake images acc=73%\n",
      ">31 real images acc=97% fake images acc=80%\n",
      ">32 real images acc=96% fake images acc=80%\n",
      ">33 real images acc=95% fake images acc=79%\n",
      ">34 real images acc=97% fake images acc=75%\n",
      ">35 real images acc=97% fake images acc=75%\n",
      ">36 real images acc=94% fake images acc=70%\n",
      ">37 real images acc=97% fake images acc=72%\n",
      ">38 real images acc=91% fake images acc=73%\n",
      ">39 real images acc=92% fake images acc=79%\n",
      ">40 real images acc=98% fake images acc=80%\n",
      ">41 real images acc=94% fake images acc=73%\n",
      ">42 real images acc=96% fake images acc=74%\n",
      ">43 real images acc=97% fake images acc=66%\n",
      ">44 real images acc=94% fake images acc=76%\n",
      ">45 real images acc=93% fake images acc=77%\n",
      ">46 real images acc=92% fake images acc=70%\n",
      ">47 real images acc=96% fake images acc=76%\n",
      ">48 real images acc=95% fake images acc=77%\n",
      ">49 real images acc=95% fake images acc=85%\n",
      ">50 real images acc=94% fake images acc=79%\n",
      ">51 real images acc=98% fake images acc=76%\n",
      ">52 real images acc=93% fake images acc=64%\n",
      ">53 real images acc=100% fake images acc=80%\n",
      ">54 real images acc=97% fake images acc=74%\n",
      ">55 real images acc=95% fake images acc=67%\n",
      ">56 real images acc=95% fake images acc=79%\n",
      ">57 real images acc=98% fake images acc=77%\n",
      ">58 real images acc=95% fake images acc=81%\n",
      ">59 real images acc=94% fake images acc=76%\n",
      ">60 real images acc=97% fake images acc=73%\n",
      ">61 real images acc=93% fake images acc=70%\n",
      ">62 real images acc=96% fake images acc=71%\n",
      ">63 real images acc=97% fake images acc=73%\n",
      ">64 real images acc=93% fake images acc=77%\n",
      ">65 real images acc=95% fake images acc=76%\n",
      ">66 real images acc=98% fake images acc=80%\n",
      ">67 real images acc=98% fake images acc=77%\n",
      ">68 real images acc=98% fake images acc=74%\n",
      ">69 real images acc=94% fake images acc=73%\n",
      ">70 real images acc=97% fake images acc=73%\n",
      ">71 real images acc=98% fake images acc=74%\n",
      ">72 real images acc=98% fake images acc=79%\n",
      ">73 real images acc=100% fake images acc=74%\n",
      ">74 real images acc=99% fake images acc=70%\n",
      ">75 real images acc=98% fake images acc=76%\n",
      ">76 real images acc=98% fake images acc=72%\n",
      ">77 real images acc=100% fake images acc=66%\n",
      ">78 real images acc=98% fake images acc=75%\n",
      ">79 real images acc=96% fake images acc=77%\n",
      ">80 real images acc=98% fake images acc=66%\n",
      ">81 real images acc=97% fake images acc=74%\n",
      ">82 real images acc=98% fake images acc=72%\n",
      ">83 real images acc=100% fake images acc=70%\n",
      ">84 real images acc=98% fake images acc=70%\n",
      ">85 real images acc=97% fake images acc=80%\n",
      ">86 real images acc=99% fake images acc=69%\n",
      ">87 real images acc=99% fake images acc=72%\n",
      ">88 real images acc=99% fake images acc=74%\n",
      ">89 real images acc=100% fake images acc=68%\n",
      ">90 real images acc=99% fake images acc=80%\n",
      ">91 real images acc=98% fake images acc=78%\n",
      ">92 real images acc=100% fake images acc=75%\n",
      ">93 real images acc=99% fake images acc=74%\n",
      ">94 real images acc=96% fake images acc=74%\n",
      ">95 real images acc=99% fake images acc=75%\n",
      ">96 real images acc=97% fake images acc=73%\n",
      ">97 real images acc=99% fake images acc=77%\n",
      ">98 real images acc=98% fake images acc=66%\n",
      ">99 real images acc=99% fake images acc=73%\n",
      ">100 real images acc=98% fake images acc=75%\n",
      ">101 real images acc=99% fake images acc=76%\n",
      ">102 real images acc=100% fake images acc=71%\n",
      ">103 real images acc=98% fake images acc=75%\n",
      ">104 real images acc=100% fake images acc=76%\n",
      ">105 real images acc=99% fake images acc=76%\n",
      ">106 real images acc=99% fake images acc=70%\n",
      ">107 real images acc=94% fake images acc=72%\n",
      ">108 real images acc=98% fake images acc=68%\n",
      ">109 real images acc=98% fake images acc=69%\n",
      ">110 real images acc=97% fake images acc=63%\n",
      ">111 real images acc=98% fake images acc=72%\n",
      ">112 real images acc=96% fake images acc=70%\n",
      ">113 real images acc=95% fake images acc=77%\n",
      ">114 real images acc=98% fake images acc=74%\n",
      ">115 real images acc=100% fake images acc=71%\n",
      ">116 real images acc=100% fake images acc=66%\n",
      ">117 real images acc=99% fake images acc=70%\n",
      ">118 real images acc=98% fake images acc=80%\n",
      ">119 real images acc=99% fake images acc=72%\n",
      ">120 real images acc=99% fake images acc=71%\n",
      ">121 real images acc=99% fake images acc=69%\n",
      ">122 real images acc=98% fake images acc=73%\n",
      ">123 real images acc=97% fake images acc=69%\n",
      ">124 real images acc=98% fake images acc=73%\n",
      ">125 real images acc=100% fake images acc=66%\n",
      ">126 real images acc=100% fake images acc=67%\n",
      ">127 real images acc=99% fake images acc=72%\n",
      ">128 real images acc=98% fake images acc=70%\n",
      ">129 real images acc=98% fake images acc=73%\n",
      ">130 real images acc=99% fake images acc=75%\n",
      ">131 real images acc=98% fake images acc=74%\n",
      ">132 real images acc=97% fake images acc=70%\n",
      ">133 real images acc=98% fake images acc=68%\n",
      ">134 real images acc=95% fake images acc=69%\n",
      ">135 real images acc=98% fake images acc=64%\n",
      ">136 real images acc=98% fake images acc=74%\n",
      ">137 real images acc=100% fake images acc=73%\n",
      ">138 real images acc=99% fake images acc=73%\n",
      ">139 real images acc=95% fake images acc=74%\n",
      ">140 real images acc=100% fake images acc=77%\n",
      ">141 real images acc=98% fake images acc=70%\n",
      ">142 real images acc=98% fake images acc=72%\n",
      ">143 real images acc=99% fake images acc=70%\n",
      ">144 real images acc=96% fake images acc=77%\n",
      ">145 real images acc=99% fake images acc=70%\n",
      ">146 real images acc=99% fake images acc=80%\n",
      ">147 real images acc=100% fake images acc=81%\n",
      ">148 real images acc=100% fake images acc=78%\n",
      ">149 real images acc=98% fake images acc=73%\n",
      ">150 real images acc=99% fake images acc=73%\n",
      ">151 real images acc=98% fake images acc=76%\n",
      ">152 real images acc=100% fake images acc=72%\n",
      ">153 real images acc=98% fake images acc=77%\n",
      ">154 real images acc=95% fake images acc=71%\n",
      ">155 real images acc=98% fake images acc=69%\n",
      ">156 real images acc=98% fake images acc=75%\n",
      ">157 real images acc=99% fake images acc=78%\n",
      ">158 real images acc=98% fake images acc=71%\n",
      ">159 real images acc=98% fake images acc=77%\n",
      ">160 real images acc=99% fake images acc=75%\n",
      ">161 real images acc=100% fake images acc=80%\n",
      ">162 real images acc=99% fake images acc=81%\n",
      ">163 real images acc=97% fake images acc=73%\n",
      ">164 real images acc=98% fake images acc=81%\n",
      ">165 real images acc=95% fake images acc=69%\n",
      ">166 real images acc=98% fake images acc=70%\n",
      ">167 real images acc=99% fake images acc=77%\n",
      ">168 real images acc=98% fake images acc=78%\n",
      ">169 real images acc=99% fake images acc=73%\n",
      ">170 real images acc=99% fake images acc=74%\n",
      ">171 real images acc=97% fake images acc=73%\n",
      ">172 real images acc=98% fake images acc=78%\n",
      ">173 real images acc=96% fake images acc=76%\n",
      ">174 real images acc=97% fake images acc=70%\n",
      ">175 real images acc=99% fake images acc=73%\n",
      ">176 real images acc=98% fake images acc=77%\n",
      ">177 real images acc=98% fake images acc=71%\n",
      ">178 real images acc=100% fake images acc=73%\n",
      ">179 real images acc=98% fake images acc=74%\n",
      ">180 real images acc=99% fake images acc=70%\n",
      ">181 real images acc=99% fake images acc=77%\n",
      ">182 real images acc=98% fake images acc=76%\n",
      ">183 real images acc=98% fake images acc=79%\n",
      ">184 real images acc=96% fake images acc=73%\n",
      ">185 real images acc=97% fake images acc=75%\n",
      ">186 real images acc=98% fake images acc=75%\n",
      ">187 real images acc=98% fake images acc=72%\n",
      ">188 real images acc=97% fake images acc=73%\n",
      ">189 real images acc=98% fake images acc=77%\n",
      ">190 real images acc=95% fake images acc=77%\n",
      ">191 real images acc=99% fake images acc=70%\n",
      ">192 real images acc=99% fake images acc=77%\n",
      ">193 real images acc=100% fake images acc=63%\n",
      ">194 real images acc=98% fake images acc=72%\n",
      ">195 real images acc=98% fake images acc=77%\n",
      ">196 real images acc=98% fake images acc=73%\n",
      ">197 real images acc=100% fake images acc=74%\n",
      ">198 real images acc=99% fake images acc=72%\n",
      ">199 real images acc=100% fake images acc=78%\n",
      ">200 real images acc=99% fake images acc=71%\n",
      ">201 real images acc=98% fake images acc=70%\n",
      ">202 real images acc=97% fake images acc=69%\n",
      ">203 real images acc=99% fake images acc=73%\n",
      ">204 real images acc=98% fake images acc=80%\n",
      ">205 real images acc=98% fake images acc=74%\n",
      ">206 real images acc=100% fake images acc=82%\n",
      ">207 real images acc=99% fake images acc=76%\n",
      ">208 real images acc=100% fake images acc=75%\n",
      ">209 real images acc=100% fake images acc=77%\n",
      ">210 real images acc=98% fake images acc=76%\n",
      ">211 real images acc=99% fake images acc=72%\n",
      ">212 real images acc=99% fake images acc=71%\n",
      ">213 real images acc=96% fake images acc=81%\n",
      ">214 real images acc=99% fake images acc=73%\n",
      ">215 real images acc=98% fake images acc=71%\n",
      ">216 real images acc=98% fake images acc=73%\n",
      ">217 real images acc=95% fake images acc=84%\n",
      ">218 real images acc=100% fake images acc=66%\n",
      ">219 real images acc=99% fake images acc=71%\n",
      ">220 real images acc=98% fake images acc=72%\n",
      ">221 real images acc=98% fake images acc=79%\n",
      ">222 real images acc=99% fake images acc=71%\n",
      ">223 real images acc=98% fake images acc=75%\n",
      ">224 real images acc=97% fake images acc=79%\n",
      ">225 real images acc=99% fake images acc=73%\n",
      ">226 real images acc=96% fake images acc=71%\n",
      ">227 real images acc=99% fake images acc=73%\n",
      ">228 real images acc=96% fake images acc=76%\n",
      ">229 real images acc=100% fake images acc=78%\n",
      ">230 real images acc=97% fake images acc=74%\n",
      ">231 real images acc=97% fake images acc=84%\n",
      ">232 real images acc=98% fake images acc=81%\n",
      ">233 real images acc=99% fake images acc=78%\n",
      ">234 real images acc=99% fake images acc=72%\n",
      ">235 real images acc=98% fake images acc=77%\n",
      ">236 real images acc=98% fake images acc=81%\n",
      ">237 real images acc=99% fake images acc=73%\n",
      ">238 real images acc=100% fake images acc=80%\n",
      ">239 real images acc=100% fake images acc=74%\n",
      ">240 real images acc=99% fake images acc=73%\n",
      ">241 real images acc=95% fake images acc=73%\n",
      ">242 real images acc=100% fake images acc=64%\n",
      ">243 real images acc=97% fake images acc=74%\n",
      ">244 real images acc=98% fake images acc=76%\n",
      ">245 real images acc=95% fake images acc=70%\n",
      ">246 real images acc=99% fake images acc=71%\n",
      ">247 real images acc=98% fake images acc=76%\n",
      ">248 real images acc=97% fake images acc=77%\n",
      ">249 real images acc=98% fake images acc=73%\n",
      ">250 real images acc=99% fake images acc=76%\n",
      ">251 real images acc=98% fake images acc=74%\n",
      ">252 real images acc=98% fake images acc=73%\n",
      ">253 real images acc=98% fake images acc=76%\n",
      ">254 real images acc=100% fake images acc=79%\n",
      ">255 real images acc=98% fake images acc=74%\n",
      ">256 real images acc=99% fake images acc=77%\n",
      ">257 real images acc=96% fake images acc=72%\n",
      ">258 real images acc=97% fake images acc=70%\n",
      ">259 real images acc=99% fake images acc=72%\n",
      ">260 real images acc=99% fake images acc=77%\n",
      ">261 real images acc=99% fake images acc=80%\n",
      ">262 real images acc=97% fake images acc=77%\n",
      ">263 real images acc=98% fake images acc=73%\n",
      ">264 real images acc=99% fake images acc=81%\n",
      ">265 real images acc=98% fake images acc=77%\n",
      ">266 real images acc=95% fake images acc=78%\n",
      ">267 real images acc=98% fake images acc=75%\n",
      ">268 real images acc=95% fake images acc=84%\n",
      ">269 real images acc=100% fake images acc=73%\n",
      ">270 real images acc=98% fake images acc=73%\n",
      ">271 real images acc=97% fake images acc=82%\n",
      ">272 real images acc=98% fake images acc=79%\n",
      ">273 real images acc=98% fake images acc=77%\n",
      ">274 real images acc=100% fake images acc=74%\n",
      ">275 real images acc=100% fake images acc=77%\n",
      ">276 real images acc=98% fake images acc=79%\n",
      ">277 real images acc=95% fake images acc=73%\n",
      ">278 real images acc=98% fake images acc=81%\n",
      ">279 real images acc=96% fake images acc=76%\n",
      ">280 real images acc=98% fake images acc=80%\n",
      ">281 real images acc=100% fake images acc=73%\n",
      ">282 real images acc=100% fake images acc=77%\n",
      ">283 real images acc=98% fake images acc=80%\n",
      ">284 real images acc=98% fake images acc=75%\n",
      ">285 real images acc=98% fake images acc=80%\n",
      ">286 real images acc=98% fake images acc=74%\n",
      ">287 real images acc=100% fake images acc=77%\n",
      ">288 real images acc=98% fake images acc=80%\n",
      ">289 real images acc=96% fake images acc=70%\n",
      ">290 real images acc=96% fake images acc=70%\n",
      ">291 real images acc=97% fake images acc=78%\n",
      ">292 real images acc=97% fake images acc=77%\n",
      ">293 real images acc=100% fake images acc=77%\n",
      ">294 real images acc=99% fake images acc=77%\n",
      ">295 real images acc=96% fake images acc=76%\n",
      ">296 real images acc=99% fake images acc=75%\n",
      ">297 real images acc=97% fake images acc=78%\n",
      ">298 real images acc=97% fake images acc=78%\n",
      ">299 real images acc=93% fake images acc=77%\n",
      ">300 real images acc=98% fake images acc=80%\n",
      ">301 real images acc=99% fake images acc=83%\n",
      ">302 real images acc=98% fake images acc=82%\n",
      ">303 real images acc=98% fake images acc=84%\n",
      ">304 real images acc=100% fake images acc=73%\n",
      ">305 real images acc=97% fake images acc=73%\n",
      ">306 real images acc=94% fake images acc=75%\n",
      ">307 real images acc=95% fake images acc=77%\n",
      ">308 real images acc=94% fake images acc=75%\n",
      ">309 real images acc=98% fake images acc=77%\n",
      ">310 real images acc=97% fake images acc=78%\n",
      ">311 real images acc=100% fake images acc=79%\n",
      ">312 real images acc=95% fake images acc=77%\n",
      ">313 real images acc=98% fake images acc=78%\n",
      ">314 real images acc=100% fake images acc=77%\n",
      ">315 real images acc=96% fake images acc=78%\n",
      ">316 real images acc=95% fake images acc=72%\n",
      ">317 real images acc=97% fake images acc=79%\n",
      ">318 real images acc=97% fake images acc=79%\n",
      ">319 real images acc=98% fake images acc=80%\n",
      ">320 real images acc=97% fake images acc=80%\n",
      ">321 real images acc=97% fake images acc=85%\n",
      ">322 real images acc=98% fake images acc=71%\n",
      ">323 real images acc=97% fake images acc=82%\n",
      ">324 real images acc=98% fake images acc=77%\n",
      ">325 real images acc=95% fake images acc=76%\n",
      ">326 real images acc=98% fake images acc=77%\n",
      ">327 real images acc=98% fake images acc=82%\n",
      ">328 real images acc=100% fake images acc=79%\n",
      ">329 real images acc=98% fake images acc=80%\n",
      ">330 real images acc=100% fake images acc=77%\n",
      ">331 real images acc=98% fake images acc=80%\n",
      ">332 real images acc=99% fake images acc=80%\n",
      ">333 real images acc=93% fake images acc=78%\n",
      ">334 real images acc=97% fake images acc=86%\n",
      ">335 real images acc=98% fake images acc=71%\n",
      ">336 real images acc=98% fake images acc=81%\n",
      ">337 real images acc=97% fake images acc=73%\n",
      ">338 real images acc=97% fake images acc=79%\n",
      ">339 real images acc=98% fake images acc=83%\n",
      ">340 real images acc=99% fake images acc=85%\n",
      ">341 real images acc=97% fake images acc=80%\n",
      ">342 real images acc=99% fake images acc=83%\n",
      ">343 real images acc=99% fake images acc=81%\n",
      ">344 real images acc=96% fake images acc=73%\n",
      ">345 real images acc=98% fake images acc=80%\n",
      ">346 real images acc=98% fake images acc=81%\n",
      ">347 real images acc=97% fake images acc=80%\n",
      ">348 real images acc=95% fake images acc=81%\n",
      ">349 real images acc=98% fake images acc=74%\n",
      ">350 real images acc=97% fake images acc=86%\n",
      ">351 real images acc=98% fake images acc=82%\n",
      ">352 real images acc=95% fake images acc=82%\n",
      ">353 real images acc=99% fake images acc=84%\n",
      ">354 real images acc=99% fake images acc=85%\n",
      ">355 real images acc=95% fake images acc=84%\n",
      ">356 real images acc=99% fake images acc=82%\n",
      ">357 real images acc=98% fake images acc=84%\n",
      ">358 real images acc=99% fake images acc=80%\n",
      ">359 real images acc=98% fake images acc=86%\n",
      ">360 real images acc=94% fake images acc=80%\n",
      ">361 real images acc=95% fake images acc=82%\n",
      ">362 real images acc=97% fake images acc=77%\n",
      ">363 real images acc=97% fake images acc=80%\n",
      ">364 real images acc=97% fake images acc=84%\n",
      ">365 real images acc=97% fake images acc=84%\n",
      ">366 real images acc=98% fake images acc=80%\n",
      ">367 real images acc=98% fake images acc=80%\n",
      ">368 real images acc=98% fake images acc=83%\n",
      ">369 real images acc=97% fake images acc=82%\n",
      ">370 real images acc=97% fake images acc=80%\n",
      ">371 real images acc=97% fake images acc=88%\n",
      ">372 real images acc=97% fake images acc=83%\n",
      ">373 real images acc=100% fake images acc=83%\n",
      ">374 real images acc=98% fake images acc=87%\n",
      ">375 real images acc=97% fake images acc=88%\n",
      ">376 real images acc=97% fake images acc=86%\n",
      ">377 real images acc=98% fake images acc=83%\n",
      ">378 real images acc=98% fake images acc=80%\n",
      ">379 real images acc=96% fake images acc=84%\n",
      ">380 real images acc=99% fake images acc=82%\n",
      ">381 real images acc=98% fake images acc=85%\n",
      ">382 real images acc=98% fake images acc=88%\n",
      ">383 real images acc=97% fake images acc=85%\n",
      ">384 real images acc=97% fake images acc=75%\n",
      ">385 real images acc=98% fake images acc=81%\n",
      ">386 real images acc=96% fake images acc=85%\n",
      ">387 real images acc=97% fake images acc=78%\n",
      ">388 real images acc=98% fake images acc=86%\n",
      ">389 real images acc=99% fake images acc=77%\n",
      ">390 real images acc=98% fake images acc=83%\n",
      ">391 real images acc=97% fake images acc=91%\n",
      ">392 real images acc=97% fake images acc=89%\n",
      ">393 real images acc=96% fake images acc=76%\n",
      ">394 real images acc=98% fake images acc=80%\n",
      ">395 real images acc=97% fake images acc=88%\n",
      ">396 real images acc=98% fake images acc=83%\n",
      ">397 real images acc=98% fake images acc=88%\n",
      ">398 real images acc=98% fake images acc=86%\n",
      ">399 real images acc=98% fake images acc=80%\n",
      ">400 real images acc=95% fake images acc=84%\n",
      ">401 real images acc=98% fake images acc=79%\n",
      ">402 real images acc=98% fake images acc=80%\n",
      ">403 real images acc=98% fake images acc=86%\n",
      ">404 real images acc=98% fake images acc=87%\n",
      ">405 real images acc=98% fake images acc=84%\n",
      ">406 real images acc=98% fake images acc=87%\n",
      ">407 real images acc=98% fake images acc=83%\n",
      ">408 real images acc=98% fake images acc=89%\n",
      ">409 real images acc=96% fake images acc=80%\n",
      ">410 real images acc=97% fake images acc=85%\n",
      ">411 real images acc=99% fake images acc=91%\n",
      ">412 real images acc=97% fake images acc=80%\n",
      ">413 real images acc=97% fake images acc=79%\n",
      ">414 real images acc=98% fake images acc=78%\n",
      ">415 real images acc=96% fake images acc=86%\n",
      ">416 real images acc=99% fake images acc=86%\n",
      ">417 real images acc=98% fake images acc=86%\n",
      ">418 real images acc=95% fake images acc=90%\n",
      ">419 real images acc=100% fake images acc=86%\n",
      ">420 real images acc=98% fake images acc=85%\n",
      ">421 real images acc=98% fake images acc=85%\n",
      ">422 real images acc=100% fake images acc=84%\n",
      ">423 real images acc=97% fake images acc=83%\n",
      ">424 real images acc=95% fake images acc=81%\n",
      ">425 real images acc=99% fake images acc=85%\n",
      ">426 real images acc=98% fake images acc=83%\n",
      ">427 real images acc=98% fake images acc=86%\n",
      ">428 real images acc=100% fake images acc=73%\n",
      ">429 real images acc=97% fake images acc=86%\n",
      ">430 real images acc=98% fake images acc=84%\n",
      ">431 real images acc=96% fake images acc=87%\n",
      ">432 real images acc=95% fake images acc=86%\n",
      ">433 real images acc=98% fake images acc=82%\n",
      ">434 real images acc=98% fake images acc=85%\n",
      ">435 real images acc=99% fake images acc=91%\n",
      ">436 real images acc=98% fake images acc=89%\n",
      ">437 real images acc=95% fake images acc=93%\n",
      ">438 real images acc=98% fake images acc=85%\n",
      ">439 real images acc=96% fake images acc=87%\n",
      ">440 real images acc=97% fake images acc=86%\n",
      ">441 real images acc=95% fake images acc=84%\n",
      ">442 real images acc=99% fake images acc=88%\n",
      ">443 real images acc=98% fake images acc=91%\n",
      ">444 real images acc=98% fake images acc=79%\n",
      ">445 real images acc=96% fake images acc=88%\n",
      ">446 real images acc=97% fake images acc=79%\n",
      ">447 real images acc=98% fake images acc=86%\n",
      ">448 real images acc=98% fake images acc=88%\n",
      ">449 real images acc=97% fake images acc=85%\n",
      ">450 real images acc=96% fake images acc=85%\n",
      ">451 real images acc=99% fake images acc=89%\n",
      ">452 real images acc=97% fake images acc=85%\n",
      ">453 real images acc=97% fake images acc=85%\n",
      ">454 real images acc=99% fake images acc=84%\n",
      ">455 real images acc=98% fake images acc=91%\n",
      ">456 real images acc=97% fake images acc=86%\n",
      ">457 real images acc=93% fake images acc=87%\n",
      ">458 real images acc=97% fake images acc=80%\n",
      ">459 real images acc=98% fake images acc=88%\n",
      ">460 real images acc=100% fake images acc=90%\n",
      ">461 real images acc=96% fake images acc=88%\n",
      ">462 real images acc=98% fake images acc=91%\n",
      ">463 real images acc=97% fake images acc=88%\n",
      ">464 real images acc=98% fake images acc=90%\n",
      ">465 real images acc=98% fake images acc=87%\n",
      ">466 real images acc=98% fake images acc=91%\n",
      ">467 real images acc=97% fake images acc=81%\n",
      ">468 real images acc=95% fake images acc=88%\n",
      ">469 real images acc=98% fake images acc=88%\n",
      ">470 real images acc=98% fake images acc=85%\n",
      ">471 real images acc=95% fake images acc=88%\n",
      ">472 real images acc=98% fake images acc=87%\n",
      ">473 real images acc=98% fake images acc=88%\n",
      ">474 real images acc=95% fake images acc=85%\n",
      ">475 real images acc=97% fake images acc=88%\n",
      ">476 real images acc=95% fake images acc=84%\n",
      ">477 real images acc=100% fake images acc=81%\n",
      ">478 real images acc=99% fake images acc=88%\n",
      ">479 real images acc=99% fake images acc=82%\n",
      ">480 real images acc=99% fake images acc=93%\n",
      ">481 real images acc=98% fake images acc=87%\n",
      ">482 real images acc=98% fake images acc=91%\n",
      ">483 real images acc=97% fake images acc=88%\n",
      ">484 real images acc=97% fake images acc=91%\n",
      ">485 real images acc=98% fake images acc=88%\n",
      ">486 real images acc=98% fake images acc=83%\n",
      ">487 real images acc=98% fake images acc=86%\n",
      ">488 real images acc=96% fake images acc=87%\n",
      ">489 real images acc=98% fake images acc=86%\n",
      ">490 real images acc=99% fake images acc=91%\n",
      ">491 real images acc=96% fake images acc=84%\n",
      ">492 real images acc=97% fake images acc=88%\n",
      ">493 real images acc=97% fake images acc=86%\n",
      ">494 real images acc=99% fake images acc=85%\n",
      ">495 real images acc=98% fake images acc=91%\n",
      ">496 real images acc=100% fake images acc=85%\n",
      ">497 real images acc=97% fake images acc=83%\n",
      ">498 real images acc=98% fake images acc=91%\n",
      ">499 real images acc=98% fake images acc=87%\n",
      ">500 real images acc=98% fake images acc=91%\n"
     ]
    }
   ],
   "source": [
    "import numpy as np\n",
    "from numpy import expand_dims\n",
    "from numpy import ones, zeros\n",
    "from numpy.random import rand, randint\n",
    "from keras.datasets.mnist import load_data\n",
    "from keras.optimizers import Adam\n",
    "from keras.models import Sequential\n",
    "from keras.layers import Dense, Conv2D, Flatten, Dropout, BatchNormalization, LeakyReLU\n",
    "\n",
    "\n",
    "def load_real_samples():\n",
    "    # load mnist dataset\n",
    "    (trainX, _), (_, _) = load_data()\n",
    "    # expand to 3d, e.g. add channels dimension\n",
    "    X = expand_dims(trainX, axis=-1)\n",
    "    # convert from unsigned ints to floats\n",
    "    X = X.astype('float32')\n",
    "    # scale from [0,255] to [0,1]\n",
    "    X = X / 255.0\n",
    "    return X\n",
    "\n",
    "# select real samples\n",
    "def generate_real_samples(dataset, n_samples):\n",
    "    # choose random instances\n",
    "    ix = randint(0, dataset.shape[0], n_samples)\n",
    "    # retrieve selected images\n",
    "    X = dataset[ix]\n",
    "    # generate 'real' class labels (1)\n",
    "    y = ones((n_samples, 1))\n",
    "    return X, y\n",
    "\n",
    "# generate n fake samples with class labels\n",
    "def generate_fake_samples(dataset, n_samples):\n",
    "    # randomly choose n_samples indexes\n",
    "    ix = np.random.choice(dataset.shape[0], n_samples)\n",
    "\n",
    "    X_1 = dataset[ix][:, :, :14]\n",
    "    X_2 = dataset[ix][:, :, 14:]\n",
    "\n",
    "    X = np.concatenate([X_1, X_2])\n",
    "    np.random.shuffle(X)\n",
    "\n",
    "    X = np.concatenate([X[:n_samples], X[n_samples:]], axis = 2)\n",
    "    # generate 'fake' class labels (0)\n",
    "    y = zeros((n_samples, 1))\n",
    "    return X, y\n",
    "\n",
    "# a simple CNN\n",
    "def define_model(in_shape=(28,28,1)):\n",
    "    model = Sequential()\n",
    "    model.add(Conv2D(64, (3,3),  padding='same', input_shape=in_shape))\n",
    "    model.add(LeakyReLU(alpha=0.2))\n",
    "    model.add(Dropout(0.4))\n",
    "    model.add(Conv2D(64, (3,3),  padding='same'))\n",
    "    model.add(LeakyReLU(alpha=0.2))\n",
    "    model.add(Flatten())\n",
    "    model.add(Dropout(0.5))\n",
    "    model.add(Dense(10, activation='relu'))\n",
    "    model.add(Flatten())\n",
    "    model.add(Dropout(0.5))\n",
    "    model.add(Dense(1, activation='sigmoid'))\n",
    "    # compile model\n",
    "    opt = Adam(learning_rate=0.0001, beta_1=0.5)\n",
    "    model.compile(loss='binary_crossentropy', optimizer=opt, metrics=['accuracy'])\n",
    "    return model\n",
    "\n",
    "# train it\n",
    "def train_model(model, dataset, n_iter=500, n_batch=256):\n",
    "    half_batch = int(n_batch / 2)\n",
    "\n",
    "    for i in range(n_iter):\n",
    "        # get randomly selected 'real' samples\n",
    "        X_real, y_real = generate_real_samples(dataset, half_batch)\n",
    "        # update model on real samples\n",
    "        _, real_acc = model.train_on_batch(X_real, y_real)\n",
    "        # generate 'fake' examples\n",
    "        X_fake, y_fake = generate_fake_samples(dataset, half_batch)\n",
    "        # update model on fake samples\n",
    "        _, fake_acc = model.train_on_batch(X_fake, y_fake)\n",
    "        # summarize the performance\n",
    "        print('>%d real images acc=%.0f%% fake images acc=%.0f%%' % (i+1, real_acc*100, fake_acc*100))\n",
    "\n",
    "# define the model\n",
    "model = define_model()\n",
    "\n",
    "# load image data\n",
    "dataset = load_real_samples()\n",
    "\n",
    "# fit the model\n",
    "train_model(model, dataset)"
   ]
  },
  {
   "cell_type": "markdown",
   "metadata": {
    "id": "10WBUn8gQm71"
   },
   "source": [
    "As we see it is able to learn something. Let's take some examples and see how it performs."
   ]
  },
  {
   "cell_type": "code",
   "execution_count": 5,
   "metadata": {
    "colab": {
     "base_uri": "https://localhost:8080/",
     "height": 627
    },
    "id": "FW0SFLTBO_xx",
    "outputId": "d7c2df93-7bdc-4324-b3fa-6c08d0003c54"
   },
   "outputs": [
    {
     "data": {
      "text/plain": [
       "array([[0.9622413]], dtype=float32)"
      ]
     },
     "execution_count": 5,
     "metadata": {},
     "output_type": "execute_result"
    },
    {
     "data": {
      "image/png": "[encoded data removed]",
      "text/plain": [
       "<Figure size 432x288 with 1 Axes>"
      ]
     },
     "metadata": {
      "needs_background": "light"
     },
     "output_type": "display_data"
    }
   ],
   "source": [
    "import matplotlib.pyplot as plt\n",
    "\n",
    "some_image = dataset[10]\n",
    "plt.imshow(some_image)\n",
    "some_image = some_image.reshape(1,28,28,1)\n",
    "\n",
    "model.predict(some_image)"
   ]
  },
  {
   "cell_type": "markdown",
   "metadata": {
    "id": "10WBUn8gQm71"
   },
   "source": [
    "96% of confidence that it's a MNIST image (it is).\n",
    "\n",
    "Let's go further and generate a fake image:"
   ]
  },
  {
   "cell_type": "code",
   "execution_count": 6,
   "metadata": {
    "id": "CYESkuYVO_xy",
    "outputId": "1d224c37-68bc-44ba-dba5-29972d91d5ef"
   },
   "outputs": [
    {
     "data": {
      "text/plain": [
       "array([19033])"
      ]
     },
     "execution_count": 6,
     "metadata": {},
     "output_type": "execute_result"
    }
   ],
   "source": [
    "randint(0, dataset.shape[0], 1)"
   ]
  },
  {
   "cell_type": "code",
   "execution_count": 22,
   "metadata": {
    "id": "CYESkuYVO_xy",
    "outputId": "1d224c37-68bc-44ba-dba5-29972d91d5ef"
   },
   "outputs": [
    {
     "data": {
      "text/plain": [
       "array([[2.857564e-06]], dtype=float32)"
      ]
     },
     "execution_count": 22,
     "metadata": {},
     "output_type": "execute_result"
    },
    {
     "data": {
      "image/png": "[encoded data removed]",
      "text/plain": [
       "<Figure size 432x288 with 1 Axes>"
      ]
     },
     "metadata": {
      "needs_background": "light"
     },
     "output_type": "display_data"
    }
   ],
   "source": [
    "x_1 = dataset[14][:, :14]\n",
    "x_2 = dataset[11232][:, :14]\n",
    "\n",
    "some_image_2 = np.concatenate([x_1, x_2], axis=1).reshape(1,28,28,1)\n",
    "plt.imshow(some_image_2[0])\n",
    "\n",
    "model.predict(some_image_2)"
   ]
  },
  {
   "cell_type": "markdown",
   "metadata": {
    "id": "10WBUn8gQm71"
   },
   "source": [
    "This is fake, obviously (left half of one image with left half will almost always give a fake). But what about combining left half of one image with right half of another?"
   ]
  },
  {
   "cell_type": "code",
   "execution_count": 43,
   "metadata": {
    "id": "X5OhbwEfO_xy",
    "outputId": "be84ac4f-523b-4fcf-a296-04afc747fad9"
   },
   "outputs": [
    {
     "data": {
      "text/plain": [
       "array([[0.09524855]], dtype=float32)"
      ]
     },
     "execution_count": 43,
     "metadata": {},
     "output_type": "execute_result"
    },
    {
     "data": {
      "image/png": "[encoded data removed]",
      "text/plain": [
       "<Figure size 432x288 with 1 Axes>"
      ]
     },
     "metadata": {
      "needs_background": "light"
     },
     "output_type": "display_data"
    }
   ],
   "source": [
    "x_1 = dataset[1123][:, :14]\n",
    "x_2 = dataset[157][:, 14:]\n",
    "\n",
    "some_image_2 = np.concatenate([x_1, x_2], axis=1).reshape(1,28,28,1)\n",
    "plt.imshow(some_image_2[0])\n",
    "\n",
    "model.predict(some_image_2)"
   ]
  },
  {
   "cell_type": "markdown",
   "metadata": {
    "id": "10WBUn8gQm71"
   },
   "source": [
    "With high probability this is fake also. And it is! Cool!\n",
    "\n",
    "However, there are some cases when algorithm will give 0.6, 0.7 for fake ones.\n",
    "\n",
    "Further I do the following: \n",
    "* dividing the MNIST dataset into 2 parts vertically (generating 120000 28*14 images)\n",
    "* concatenating, then shuffling\n",
    "* arbitrarily picking one image (say image x) and successively concatinate it with all the 119999 images then predicting if the resulting image is fake or not. \n",
    "\n",
    "Of course this is not the best way to do, but as of limitation in time - let's do this MVP:"
   ]
  },
  {
   "cell_type": "code",
   "execution_count": 74,
   "metadata": {
    "id": "X5OhbwEfO_xy",
    "outputId": "be84ac4f-523b-4fcf-a296-04afc747fad9"
   },
   "outputs": [],
   "source": [
    "# dividing original dataset into 2 parts\n",
    "X_1 = dataset[:, :, :14]\n",
    "X_2 = dataset[:, :, 14:]\n",
    "\n",
    "# print(X_1.shape, X_2.shape)\n",
    "\n",
    "# concatenating and shuffling\n",
    "X = np.concatenate([X_1, X_2])\n",
    "np.random.shuffle(X)"
   ]
  },
  {
   "cell_type": "code",
   "execution_count": 91,
   "metadata": {
    "id": "X5OhbwEfO_xy",
    "outputId": "be84ac4f-523b-4fcf-a296-04afc747fad9"
   },
   "outputs": [
    {
     "name": "stdout",
     "output_type": "stream",
     "text": [
      "100 [[0.932423]] 73\n",
      "200 [[0.932423]] 73\n",
      "300 [[0.932423]] 73\n",
      "400 [[0.932423]] 73\n",
      "500 [[0.932423]] 73\n",
      "600 [[0.932423]] 73\n",
      "700 [[0.932423]] 73\n",
      "800 [[0.932423]] 73\n",
      "900 [[0.932423]] 73\n",
      "1000 [[0.932423]] 73\n"
     ]
    }
   ],
   "source": [
    "# pick some image\n",
    "our_image = X[128]\n",
    "\n",
    "curr_proba = 0\n",
    "best_proba = 0\n",
    "\n",
    "i = 0\n",
    "idx = -1\n",
    "\n",
    "# here I take only first 1000 half-images just for an example, \n",
    "# it is a very-very unoptimized and takes huuuge time\n",
    "for j in range(1000):\n",
    "    i+=1\n",
    "    curr_proba = model.predict(np.concatenate([our_image, X[j]], axis=1).reshape(1,28,28,1))\n",
    "    if curr_proba > best_proba:\n",
    "        best_proba = curr_proba\n",
    "        idx = j\n",
    "    if i % 100 == 0:\n",
    "        print(i, best_proba, idx)"
   ]
  },
  {
   "cell_type": "markdown",
   "metadata": {
    "id": "10WBUn8gQm71"
   },
   "source": [
    "Well, it says that our_image + X[73] is not a fake (and at least in the first 1000 half-plots this is the best match). Let's plot this:"
   ]
  },
  {
   "cell_type": "code",
   "execution_count": 92,
   "metadata": {
    "id": "H5fTrRgLO_xz",
    "outputId": "426fdfae-50d4-4ad8-bbf9-327c31de18bb"
   },
   "outputs": [
    {
     "data": {
      "text/plain": [
       "<matplotlib.image.AxesImage at 0x7fa32fe29910>"
      ]
     },
     "execution_count": 92,
     "metadata": {},
     "output_type": "execute_result"
    },
    {
     "data": {
      "image/png": "[encoded data removed]",
      "text/plain": [
       "<Figure size 432x288 with 1 Axes>"
      ]
     },
     "metadata": {
      "needs_background": "light"
     },
     "output_type": "display_data"
    }
   ],
   "source": [
    "plt.imshow(np.concatenate([our_image, X[73]], axis = 1))"
   ]
  },
  {
   "cell_type": "markdown",
   "metadata": {
    "id": "10WBUn8gQm71"
   },
   "source": [
    "Nice! This seems to be realistic one. Take another case (just playing with it):"
   ]
  },
  {
   "cell_type": "code",
   "execution_count": 93,
   "metadata": {
    "id": "2_s7zNmoO_xz"
   },
   "outputs": [
    {
     "name": "stdout",
     "output_type": "stream",
     "text": [
      "100 [[0.00179821]] 2\n",
      "200 [[0.00211668]] 190\n",
      "300 [[0.00397214]] 258\n",
      "400 [[0.00455576]] 392\n",
      "500 [[0.00455576]] 392\n",
      "600 [[0.00455576]] 392\n",
      "700 [[0.00455576]] 392\n",
      "800 [[0.00455576]] 392\n",
      "900 [[0.00455576]] 392\n",
      "1000 [[0.00455576]] 392\n"
     ]
    }
   ],
   "source": [
    "# pick another image\n",
    "our_image_2 = X[12823]\n",
    "\n",
    "curr_proba = 0\n",
    "best_proba = 0\n",
    "\n",
    "i = 0\n",
    "idx = -1\n",
    "\n",
    "for j in range(1000):\n",
    "    i+=1\n",
    "    curr_proba = model.predict(np.concatenate([our_image_2, X[j]], axis=1).reshape(1,28,28,1))\n",
    "    if curr_proba > best_proba:\n",
    "        best_proba = curr_proba\n",
    "        idx = j\n",
    "    if i % 100 == 0:\n",
    "        print(i, best_proba, idx)"
   ]
  },
  {
   "cell_type": "markdown",
   "metadata": {
    "id": "10WBUn8gQm71"
   },
   "source": [
    "Hmm, our image + everything in the first 1000 images is fake. Let's plot the best match:"
   ]
  },
  {
   "cell_type": "code",
   "execution_count": 94,
   "metadata": {},
   "outputs": [
    {
     "data": {
      "text/plain": [
       "<matplotlib.image.AxesImage at 0x7fa32fba8fa0>"
      ]
     },
     "execution_count": 94,
     "metadata": {},
     "output_type": "execute_result"
    },
    {
     "data": {
      "image/png": "[encoded data removed]",
      "text/plain": [
       "<Figure size 432x288 with 1 Axes>"
      ]
     },
     "metadata": {
      "needs_background": "light"
     },
     "output_type": "display_data"
    }
   ],
   "source": [
    "plt.imshow(np.concatenate([our_image_2, X[392]], axis = 1))"
   ]
  },
  {
   "cell_type": "markdown",
   "metadata": {
    "id": "10WBUn8gQm71"
   },
   "source": [
    "Ok, got it, this is fake (and everything where the left part will be a right part of the original will be apriori fake).\n",
    "\n",
    "Well, seems that this works? ;)"
   ]
  },
  {
   "cell_type": "code",
   "execution_count": null,
   "metadata": {},
   "outputs": [],
   "source": []
  }
 ],
 "metadata": {
  "accelerator": "GPU",
  "anaconda-cloud": {},
  "colab": {
   "collapsed_sections": [],
   "name": "1. GAN.ipynb",
   "provenance": []
  },
  "kernelspec": {
   "display_name": "Python 3",
   "language": "python",
   "name": "python3"
  },
  "language_info": {
   "codemirror_mode": {
    "name": "ipython",
    "version": 3
   },
   "file_extension": ".py",
   "mimetype": "text/x-python",
   "name": "python",
   "nbconvert_exporter": "python",
   "pygments_lexer": "ipython3",
   "version": "3.8.5"
  },
  "toc": {
   "nav_menu": {},
   "number_sections": true,
   "sideBar": true,
   "skip_h1_title": false,
   "title_cell": "Table of Contents",
   "title_sidebar": "Contents",
   "toc_cell": false,
   "toc_position": {},
   "toc_section_display": true,
   "toc_window_display": false
  }
 },
 "nbformat": 4,
 "nbformat_minor": 4
}
