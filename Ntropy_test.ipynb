{
 "cells": [
  {
   "cell_type": "code",
   "execution_count": null,
   "metadata": {
    "id": "8kjcRK95O_xr"
   },
   "outputs": [],
   "source": [
    "# TASK 1 (ML eng. only)\n",
    "\n",
    "# Imagine the digits in the test set of the MNIST dataset\n",
    "# (http://yann.lecun.com/exdb/mnist/) got cut in half vertically and shuffled around. Although the\n",
    "# two resulting halves of each image do not have any shared pixels, there are\n",
    "# similarities in their structure. Implement a way to restore the original test\n",
    "# set from the two halves, whilst maximising the overall matching accuracy."
   ]
  },
  {
   "cell_type": "markdown",
   "metadata": {
    "id": "Lv9t_TnBQrvq"
   },
   "source": [
    "my understanding of the problem: \n",
    "*   take the MNIST dataset (for example, train part with 60000 28*28 images),\n",
    "*   divide every image into two parts vertically,\n",
    "*   design some ML algorithm that is able to recover 60000 28*28 images having 120000 28*14 half-images  "
   ]
  },
  {
   "cell_type": "markdown",
   "metadata": {
    "id": "VzI-TvA7Q-T8"
   },
   "source": [
    "What I've done:\n",
    "*   wrote down a simple CNN that is making binary classification (i.e. true of fake image);\n",
    "*   this CNN wgets as an input some 28*28 image generated via concatenation of some two half-images 28*14 and generates a label 0 <-> fake and 1 <-> real image;\n",
    "*   for training I use 60000 MNIST 28*28 images as a real images and 60000 28*28 images generate from concatenation of shuffled 120000 28*14 half-images\n",
    "\n",
    "{Such an approach is used for GAN's (I've picked up the discriminator part from a simple GAN).}\n",
    "\n",
    "\n",
    "The general idea is to use a simple binary-classificator-CNN to train a model that understands if the 28*28 image is a mnist image or it is fake."
   ]
  },
  {
   "cell_type": "code",
   "execution_count": 1,
   "metadata": {
    "colab": {
     "base_uri": "https://localhost:8080/"
    },
    "id": "2cuzAnaxO_xv",
    "outputId": "0610dc84-90e6-4ba3-8429-af7e410f02a4"
   },
   "outputs": [
    {
     "name": "stdout",
     "output_type": "stream",
     "text": [
      "Downloading data from https://storage.googleapis.com/tensorflow/tf-keras-datasets/mnist.npz\n",
      "11493376/11490434 [==============================] - 1s 0us/step\n",
      "11501568/11490434 [==============================] - 1s 0us/step\n",
      "iteration 1: real images acc=67% fake images acc=9%\n",
      "iteration 101: real images acc=98% fake images acc=72%\n",
      "iteration 201: real images acc=100% fake images acc=66%\n",
      "iteration 301: real images acc=99% fake images acc=69%\n",
      "iteration 401: real images acc=97% fake images acc=80%\n",
      "iteration 501: real images acc=97% fake images acc=78%\n",
      "iteration 601: real images acc=99% fake images acc=87%\n",
      "iteration 701: real images acc=99% fake images acc=86%\n",
      "iteration 801: real images acc=98% fake images acc=89%\n",
      "iteration 901: real images acc=97% fake images acc=85%\n",
      "iteration 1001: real images acc=97% fake images acc=88%\n",
      "iteration 1101: real images acc=98% fake images acc=88%\n",
      "iteration 1201: real images acc=98% fake images acc=86%\n",
      "iteration 1301: real images acc=99% fake images acc=93%\n",
      "iteration 1401: real images acc=98% fake images acc=84%\n",
      "iteration 1501: real images acc=100% fake images acc=91%\n",
      "iteration 1601: real images acc=99% fake images acc=91%\n",
      "iteration 1701: real images acc=97% fake images acc=91%\n",
      "iteration 1801: real images acc=99% fake images acc=88%\n",
      "iteration 1901: real images acc=99% fake images acc=99%\n",
      "iteration 2001: real images acc=97% fake images acc=97%\n",
      "iteration 2101: real images acc=95% fake images acc=95%\n",
      "iteration 2201: real images acc=98% fake images acc=98%\n",
      "iteration 2301: real images acc=94% fake images acc=99%\n",
      "iteration 2401: real images acc=98% fake images acc=98%\n",
      "iteration 2501: real images acc=95% fake images acc=98%\n",
      "iteration 2601: real images acc=98% fake images acc=96%\n",
      "iteration 2701: real images acc=98% fake images acc=98%\n",
      "iteration 2801: real images acc=95% fake images acc=97%\n",
      "iteration 2901: real images acc=96% fake images acc=98%\n",
      "iteration 3001: real images acc=96% fake images acc=98%\n",
      "iteration 3101: real images acc=99% fake images acc=98%\n",
      "iteration 3201: real images acc=98% fake images acc=98%\n",
      "iteration 3301: real images acc=96% fake images acc=98%\n",
      "iteration 3401: real images acc=98% fake images acc=98%\n",
      "iteration 3501: real images acc=96% fake images acc=97%\n",
      "iteration 3601: real images acc=98% fake images acc=99%\n",
      "iteration 3701: real images acc=98% fake images acc=100%\n",
      "iteration 3801: real images acc=98% fake images acc=99%\n",
      "iteration 3901: real images acc=98% fake images acc=98%\n",
      "iteration 4001: real images acc=97% fake images acc=98%\n",
      "iteration 4101: real images acc=98% fake images acc=99%\n",
      "iteration 4201: real images acc=98% fake images acc=99%\n",
      "iteration 4301: real images acc=98% fake images acc=97%\n",
      "iteration 4401: real images acc=98% fake images acc=98%\n",
      "iteration 4501: real images acc=98% fake images acc=100%\n",
      "iteration 4601: real images acc=95% fake images acc=98%\n",
      "iteration 4701: real images acc=96% fake images acc=99%\n",
      "iteration 4801: real images acc=98% fake images acc=99%\n",
      "iteration 4901: real images acc=95% fake images acc=99%\n"
     ]
    }
   ],
   "source": [
    "import numpy as np\n",
    "from numpy import expand_dims\n",
    "from numpy import ones, zeros\n",
    "from numpy.random import rand, randint\n",
    "from keras.datasets.mnist import load_data\n",
    "from keras.optimizers import Adam\n",
    "from keras.models import Sequential\n",
    "from keras.layers import Dense, Conv2D, Flatten, Dropout, BatchNormalization, LeakyReLU\n",
    "\n",
    "\n",
    "def load_real_samples():\n",
    "    # load mnist dataset\n",
    "    (trainX, _), (_, _) = load_data()\n",
    "    # expand to 3d, e.g. add channels dimension\n",
    "    X = expand_dims(trainX, axis=-1)\n",
    "    # convert from unsigned ints to floats\n",
    "    X = X.astype('float32')\n",
    "    # scale from [0,255] to [0,1]\n",
    "    X = X / 255.0\n",
    "    return X\n",
    "\n",
    "# select real samples\n",
    "def generate_real_samples(dataset, n_samples):\n",
    "    # choose random instances\n",
    "    ix = randint(0, dataset.shape[0], n_samples)\n",
    "    # retrieve selected images\n",
    "    X = dataset[ix]\n",
    "    # generate 'real' class labels (1)\n",
    "    y = ones((n_samples, 1))\n",
    "    return X, y\n",
    "\n",
    "# generate n fake samples with class labels\n",
    "def generate_fake_samples(dataset, n_samples):\n",
    "    # randomly choose n_samples indexes\n",
    "    ix = np.random.choice(dataset.shape[0], n_samples)\n",
    "\n",
    "    X_1 = dataset[ix][:, :, :14]\n",
    "    X_2 = dataset[ix][:, :, 14:]\n",
    "\n",
    "    X = np.concatenate([X_1, X_2])\n",
    "    np.random.shuffle(X)\n",
    "\n",
    "    X = np.concatenate([X[:n_samples], X[n_samples:]], axis = 2)\n",
    "    # generate 'fake' class labels (0)\n",
    "    y = zeros((n_samples, 1))\n",
    "    return X, y\n",
    "\n",
    "# a simple CNN\n",
    "def define_model(in_shape=(28,28,1)):\n",
    "    model = Sequential()\n",
    "    model.add(Conv2D(64, (3,3),  padding='same', input_shape=in_shape))\n",
    "    model.add(LeakyReLU(alpha=0.2))\n",
    "    model.add(Dropout(0.4))\n",
    "    model.add(Conv2D(64, (3,3),  padding='same'))\n",
    "    model.add(LeakyReLU(alpha=0.2))\n",
    "    model.add(Flatten())\n",
    "    model.add(Dropout(0.5))\n",
    "    model.add(Dense(10, activation='relu'))\n",
    "    model.add(Flatten())\n",
    "    model.add(Dropout(0.5))\n",
    "    model.add(Dense(1, activation='sigmoid'))\n",
    "    # compile model\n",
    "    opt = Adam(learning_rate=0.0001, beta_1=0.5)\n",
    "    model.compile(loss='binary_crossentropy', optimizer=opt, metrics=['accuracy'])\n",
    "    return model\n",
    "\n",
    "# train it\n",
    "def train_model(model, dataset, n_iter=5000, n_batch=256):\n",
    "    half_batch = int(n_batch / 2)\n",
    "\n",
    "    for i in range(n_iter):\n",
    "        # get randomly selected 'real' samples\n",
    "        X_real, y_real = generate_real_samples(dataset, half_batch)\n",
    "        # update model on real samples\n",
    "        _, real_acc = model.train_on_batch(X_real, y_real)\n",
    "        # generate 'fake' examples\n",
    "        X_fake, y_fake = generate_fake_samples(dataset, half_batch)\n",
    "        # update model on fake samples\n",
    "        _, fake_acc = model.train_on_batch(X_fake, y_fake)\n",
    "        # summarize the performance\n",
    "        if i % 100 == 0:\n",
    "            print('iteration %d: real images acc=%.0f%% fake images acc=%.0f%%' % (i+1, real_acc*100, fake_acc*100))\n",
    "\n",
    "# define the model\n",
    "model = define_model()\n",
    "\n",
    "# load image data\n",
    "dataset = load_real_samples()\n",
    "\n",
    "# fit the model\n",
    "train_model(model, dataset)"
   ]
  },
  {
   "cell_type": "code",
   "execution_count": 5,
   "metadata": {
    "id": "c0SwB51b9gsT"
   },
   "outputs": [],
   "source": [
    "model.save_weights(\"weights_ntropy.h5\")"
   ]
  },
  {
   "cell_type": "code",
   "execution_count": 2,
   "metadata": {
    "id": "c0SwB51b9gsT"
   },
   "outputs": [],
   "source": [
    "model.load_weights(\"weights_ntropy.h5\")"
   ]
  },
  {
   "cell_type": "markdown",
   "metadata": {
    "id": "10WBUn8gQm71"
   },
   "source": [
    "As we see it is able to learn something. Let's take some examples and see how it performs."
   ]
  },
  {
   "cell_type": "code",
   "execution_count": 3,
   "metadata": {
    "colab": {
     "base_uri": "https://localhost:8080/",
     "height": 627
    },
    "id": "FW0SFLTBO_xx",
    "outputId": "7fb099d9-67d1-4c83-f2a8-cc7b8abbb72e"
   },
   "outputs": [
    {
     "data": {
      "text/plain": [
       "array([[0.9988132]], dtype=float32)"
      ]
     },
     "execution_count": 3,
     "metadata": {},
     "output_type": "execute_result"
    },
    {
     "data": {
      "image/png": "[encoded data removed]",
      "text/plain": [
       "<Figure size 432x288 with 1 Axes>"
      ]
     },
     "metadata": {
      "needs_background": "light"
     },
     "output_type": "display_data"
    }
   ],
   "source": [
    "import matplotlib.pyplot as plt\n",
    "\n",
    "some_image = dataset[10]\n",
    "plt.imshow(some_image)\n",
    "some_image = some_image.reshape(1,28,28,1)\n",
    "\n",
    "model.predict(some_image)"
   ]
  },
  {
   "cell_type": "markdown",
   "metadata": {
    "id": "ucP6ekFY76dG"
   },
   "source": [
    "99.8% of confidence that it's a MNIST image (it is).\n",
    "\n",
    "Let's go further and generate a fake image:"
   ]
  },
  {
   "cell_type": "code",
   "execution_count": 4,
   "metadata": {
    "id": "CYESkuYVO_xy",
    "outputId": "1d224c37-68bc-44ba-dba5-29972d91d5ef"
   },
   "outputs": [
    {
     "data": {
      "text/plain": [
       "array([[9.473282e-20]], dtype=float32)"
      ]
     },
     "execution_count": 4,
     "metadata": {},
     "output_type": "execute_result"
    },
    {
     "data": {
      "image/png": "[encoded data removed]",
      "text/plain": [
       "<Figure size 432x288 with 1 Axes>"
      ]
     },
     "metadata": {
      "needs_background": "light"
     },
     "output_type": "display_data"
    }
   ],
   "source": [
    "x_1 = dataset[14][:, :14]\n",
    "x_2 = dataset[11232][:, :14]\n",
    "\n",
    "some_image_2 = np.concatenate([x_1, x_2], axis=1).reshape(1,28,28,1)\n",
    "plt.imshow(some_image_2[0])\n",
    "\n",
    "model.predict(some_image_2)"
   ]
  },
  {
   "cell_type": "markdown",
   "metadata": {
    "id": "oY9mRTBH76dH"
   },
   "source": [
    "This is fake, obviously (left half of one image with left half will almost always give a fake). But what about combining left half of one image with right half of another?"
   ]
  },
  {
   "cell_type": "code",
   "execution_count": 5,
   "metadata": {
    "id": "X5OhbwEfO_xy",
    "outputId": "be84ac4f-523b-4fcf-a296-04afc747fad9"
   },
   "outputs": [
    {
     "data": {
      "text/plain": [
       "array([[0.00053647]], dtype=float32)"
      ]
     },
     "execution_count": 5,
     "metadata": {},
     "output_type": "execute_result"
    },
    {
     "data": {
      "image/png": "[encoded data removed]",
      "text/plain": [
       "<Figure size 432x288 with 1 Axes>"
      ]
     },
     "metadata": {
      "needs_background": "light"
     },
     "output_type": "display_data"
    }
   ],
   "source": [
    "x_1 = dataset[1123][:, :14]\n",
    "x_2 = dataset[157][:, 14:]\n",
    "\n",
    "some_image_2 = np.concatenate([x_1, x_2], axis=1).reshape(1,28,28,1)\n",
    "plt.imshow(some_image_2[0])\n",
    "\n",
    "model.predict(some_image_2)"
   ]
  },
  {
   "cell_type": "markdown",
   "metadata": {
    "id": "KL-BkOU276dI"
   },
   "source": [
    "With very high probability this is fake also. And it is! Cool!\n",
    "\n",
    "Further I do the following: \n",
    "* dividing the MNIST dataset into 2 parts vertically (generating 120000 28*14 images)\n",
    "* concatenating, then shuffling\n",
    "* arbitrarily picking one image (say image x) and successively concatinate it with all the 119999 images then predicting if the resulting image is fake or not. \n",
    "\n",
    "Of course this is not the best way to do, but as of limitation in time - let's do this MVP:"
   ]
  },
  {
   "cell_type": "code",
   "execution_count": 6,
   "metadata": {
    "id": "x3x_DoJ976dI"
   },
   "outputs": [],
   "source": [
    "# dividing original dataset into 2 parts\n",
    "X_1 = dataset[:, :, :14]\n",
    "X_2 = dataset[:, :, 14:]\n",
    "\n",
    "# print(X_1.shape, X_2.shape)\n",
    "\n",
    "# concatenating and shuffling\n",
    "X = np.concatenate([X_1, X_2])\n",
    "np.random.shuffle(X)"
   ]
  },
  {
   "cell_type": "code",
   "execution_count": 7,
   "metadata": {
    "id": "YqNGsTrR76dJ",
    "outputId": "be84ac4f-523b-4fcf-a296-04afc747fad9"
   },
   "outputs": [
    {
     "name": "stdout",
     "output_type": "stream",
     "text": [
      "100 [[0.9127048]] 0\n",
      "200 [[0.977462]] 184\n",
      "300 [[0.9925848]] 208\n",
      "400 [[0.9925848]] 208\n",
      "500 [[0.9925848]] 208\n",
      "600 [[0.9925848]] 208\n",
      "700 [[0.9925848]] 208\n",
      "800 [[0.9925848]] 208\n",
      "900 [[0.99549913]] 810\n",
      "1000 [[0.99549913]] 810\n"
     ]
    }
   ],
   "source": [
    "# pick some image\n",
    "our_image = X[128]\n",
    "\n",
    "curr_proba = 0\n",
    "best_proba = 0\n",
    "\n",
    "i = 0\n",
    "idx = -1\n",
    "\n",
    "# here I take only first 1000 half-images just for an example, \n",
    "# it is a very-very unoptimized and takes huuuge time\n",
    "for j in range(1000):\n",
    "    i+=1\n",
    "    curr_proba = model.predict(np.concatenate([our_image, X[j]], axis=1).reshape(1,28,28,1))\n",
    "    if curr_proba > best_proba:\n",
    "        best_proba = curr_proba\n",
    "        idx = j\n",
    "    if i % 100 == 0:\n",
    "        print(i, best_proba, idx)"
   ]
  },
  {
   "cell_type": "markdown",
   "metadata": {
    "id": "l-wHHcq176dJ"
   },
   "source": [
    "Well, it says that our_image + X[810] is not a fake (and at least in the first 1000 half-plots this is the best match). Let's plot this:"
   ]
  },
  {
   "cell_type": "code",
   "execution_count": 11,
   "metadata": {
    "id": "H5fTrRgLO_xz",
    "outputId": "426fdfae-50d4-4ad8-bbf9-327c31de18bb"
   },
   "outputs": [
    {
     "data": {
      "text/plain": [
       "<matplotlib.image.AxesImage at 0x7fe883743640>"
      ]
     },
     "execution_count": 11,
     "metadata": {},
     "output_type": "execute_result"
    },
    {
     "data": {
      "image/png": "[encoded data removed]",
      "text/plain": [
       "<Figure size 432x288 with 1 Axes>"
      ]
     },
     "metadata": {
      "needs_background": "light"
     },
     "output_type": "display_data"
    }
   ],
   "source": [
    "plt.imshow(np.concatenate([our_image, X[810]], axis = 1))"
   ]
  },
  {
   "cell_type": "markdown",
   "metadata": {
    "id": "p9VhOivL76dK"
   },
   "source": [
    "Nice! This might be zero. Take another case (just playing with it):"
   ]
  },
  {
   "cell_type": "code",
   "execution_count": 12,
   "metadata": {
    "id": "2_s7zNmoO_xz",
    "outputId": "8d7e0b2e-7c7d-40c5-8f1b-39809628f959"
   },
   "outputs": [
    {
     "name": "stdout",
     "output_type": "stream",
     "text": [
      "100 [[6.247276e-08]] 2\n",
      "200 [[6.247276e-08]] 2\n",
      "300 [[6.247276e-08]] 2\n",
      "400 [[6.247276e-08]] 2\n",
      "500 [[1.3099978e-07]] 480\n",
      "600 [[1.3099978e-07]] 480\n",
      "700 [[1.3099978e-07]] 480\n",
      "800 [[1.3099978e-07]] 480\n",
      "900 [[1.3099978e-07]] 480\n",
      "1000 [[1.3099978e-07]] 480\n"
     ]
    }
   ],
   "source": [
    "# pick another image\n",
    "our_image_2 = X[12823]\n",
    "\n",
    "curr_proba = 0\n",
    "best_proba = 0\n",
    "\n",
    "i = 0\n",
    "idx = -1\n",
    "\n",
    "for j in range(1000):\n",
    "    i+=1\n",
    "    curr_proba = model.predict(np.concatenate([our_image_2, X[j]], axis=1).reshape(1,28,28,1))\n",
    "    if curr_proba > best_proba:\n",
    "        best_proba = curr_proba\n",
    "        idx = j\n",
    "    if i % 100 == 0:\n",
    "        print(i, best_proba, idx)"
   ]
  },
  {
   "cell_type": "markdown",
   "metadata": {
    "id": "lH1UhwgT76dL"
   },
   "source": [
    "Hmm, our image + everything in the first 1000 images are fake (e-07 possibility that this is real). Let's plot the best match:"
   ]
  },
  {
   "cell_type": "code",
   "execution_count": 13,
   "metadata": {
    "id": "_SOPrjD_76dL",
    "outputId": "d1ded007-1bf2-46b0-d5e9-5518496f3a2c"
   },
   "outputs": [
    {
     "data": {
      "text/plain": [
       "<matplotlib.image.AxesImage at 0x7fe882f2d1f0>"
      ]
     },
     "execution_count": 13,
     "metadata": {},
     "output_type": "execute_result"
    },
    {
     "data": {
      "image/png": "[encoded data removed]",
      "text/plain": [
       "<Figure size 432x288 with 1 Axes>"
      ]
     },
     "metadata": {
      "needs_background": "light"
     },
     "output_type": "display_data"
    }
   ],
   "source": [
    "plt.imshow(np.concatenate([our_image_2, X[480]], axis = 1))"
   ]
  },
  {
   "cell_type": "markdown",
   "metadata": {
    "id": "68KVkkBN76dM"
   },
   "source": [
    "Ok, got it, this is fake (and everything where the left part will be a right part of the original will be apriori fake).\n",
    "\n",
    "Well, seems that this works? ;)\n",
    "\n",
    "  "
   ]
  },
  {
   "cell_type": "markdown",
   "metadata": {
    "id": "ooQSXLgU76dM"
   },
   "source": [
    "Now, let's take say 100 images from MNIST dataset, write down a simple O(n^2) matching algorithm and see the accuracy of matching (of course the algorithm is not optimized at all).\n",
    "\n",
    "PS outline of the algorithm at the end of this file."
   ]
  },
  {
   "cell_type": "code",
   "execution_count": 42,
   "metadata": {
    "colab": {
     "base_uri": "https://localhost:8080/"
    },
    "id": "0yZqeLNm76dM",
    "outputId": "46036ad8-803a-4fe7-ac23-682d7f591a80"
   },
   "outputs": [
    {
     "name": "stdout",
     "output_type": "stream",
     "text": [
      "initial indexes: [  0   1   2   3   4   5   6   7   8   9  10  11  12  13  14  15  16  17\n",
      "  18  19  20  21  22  23  24  25  26  27  28  29  30  31  32  33  34  35\n",
      "  36  37  38  39  40  41  42  43  44  45  46  47  48  49  50  51  52  53\n",
      "  54  55  56  57  58  59  60  61  62  63  64  65  66  67  68  69  70  71\n",
      "  72  73  74  75  76  77  78  79  80  81  82  83  84  85  86  87  88  89\n",
      "  90  91  92  93  94  95  96  97  98  99 100 101 102 103 104 105 106 107\n",
      " 108 109 110 111 112 113 114 115 116 117 118 119 120 121 122 123 124 125\n",
      " 126 127 128 129 130 131 132 133 134 135 136 137 138 139 140 141 142 143\n",
      " 144 145 146 147 148 149 150 151 152 153 154 155 156 157 158 159 160 161\n",
      " 162 163 164 165 166 167 168 169 170 171 172 173 174 175 176 177 178 179\n",
      " 180 181 182 183 184 185 186 187 188 189 190 191 192 193 194 195 196 197\n",
      " 198 199]\n",
      "\n",
      "\n",
      "shuffled indexes: [ 53 183 158  32  41  13 152 127   2   8 170 150 153  67  50 107 151 184\n",
      " 166  70  81 180  16  63 164  51  21 121  92  48 125 197  56 120  26  42\n",
      "  14  75 198  69  93  30 149 113 178 187 147  87  52  80 165 142 141 148\n",
      " 144  94  15 195  60  88 130 112 172  99 108 157  96  86 163 154  47  89\n",
      "  49  23  98 177 118 160  58  59 190  38  29 115  28  64 186  66  73 161\n",
      " 126 122  61  95 193  39  77  83  33   5 124 119  12 137 133 140  17  25\n",
      " 159 134  55 116 179   7 128  74  35 162  79 109  20 182 199  36  97  19\n",
      "   4 143 173  43  54 169 175 100  78   1 156 196 114 171  44  40 106 176\n",
      " 181 188 110 129 192 136 168  10 167 132 191  57   0  82  65  46  24 138\n",
      " 145 131 101  45 111  11   9  85 135 185 194 146 155   3  27  34 105  71\n",
      " 103 102 123  22 104  18 139 117  90   6  91  62 189  37  31  84  68 174\n",
      "  76  72]\n"
     ]
    }
   ],
   "source": [
    "rand_start = np.random.randint(1,100)\n",
    "num_images = 100\n",
    "\n",
    "X_1 = dataset[(rand_start - 1) * num_images : rand_start * num_images, :, :14]\n",
    "X_2 = dataset[(rand_start - 1) * num_images : rand_start * num_images, :, 14:]\n",
    "# print(X_1.shape, X_2.shape)\n",
    "\n",
    "X_init = np.concatenate([X_1, X_2])\n",
    "X_idx = np.arange(2 * num_images)\n",
    "print('initial indexes:', X_idx)\n",
    "print('\\n')\n",
    "\n",
    "np.random.shuffle(X_idx)\n",
    "print('shuffled indexes:', X_idx)"
   ]
  },
  {
   "cell_type": "code",
   "execution_count": 44,
   "metadata": {
    "id": "CBybrJX476dN"
   },
   "outputs": [],
   "source": [
    "matching_matrix = []\n",
    "\n",
    "for i in range(num_images * 5):\n",
    "    curr_image = X_init[X_idx[0]]\n",
    "\n",
    "    curr_proba, best_proba = 0, 0\n",
    "    idx = -1\n",
    "\n",
    "    for j in range(len(X_idx)):\n",
    "        curr_proba = model.predict(np.concatenate([curr_image, X_init[X_idx[j]]], axis=1).reshape(1,28,28,1))[0][0]\n",
    "        if curr_proba > best_proba:\n",
    "            best_proba = curr_proba\n",
    "            idx = j\n",
    "        \n",
    "    if best_proba > 0.5:\n",
    "        matching_matrix.append([X_idx[0], X_idx[idx]])\n",
    "        X_idx = np.delete(X_idx, [0, idx])\n",
    "        np.random.shuffle(X_idx)\n",
    "#         print(X_idx)\n",
    "#         print(X_idx.shape)\n",
    "    else:\n",
    "        np.random.shuffle(X_idx)\n",
    "        \n",
    "    if len(X_idx) == 2:\n",
    "        matching_matrix.append([X_idx[0], X_idx[1]])\n",
    "        break"
   ]
  },
  {
   "cell_type": "code",
   "execution_count": 44,
   "metadata": {
    "id": "CBybrJX476dN"
   },
   "outputs": [
    {
     "data": {
      "text/plain": [
       "<matplotlib.image.AxesImage at 0x7fe884ccdd60>"
      ]
     },
     "execution_count": 44,
     "metadata": {},
     "output_type": "execute_result"
    },
    {
     "data": {
      "image/png": "[encoded data removed]",
      "text/plain": [
       "<Figure size 432x288 with 1 Axes>"
      ]
     },
     "metadata": {
      "needs_background": "light"
     },
     "output_type": "display_data"
    }
   ],
   "source": [
    "# check that we truly have num_images final images\n",
    "assert np.shape(matching_matrix)[0] == num_images\n",
    "\n",
    "# plot some recovered image\n",
    "rand_int = np.random.randint(1,num_images)\n",
    "plt.imshow(np.concatenate([X_init[matching_matrix[num_images-rand_int][0]], X_init[matching_matrix[num_images-rand_int][1]]], axis = 1))"
   ]
  },
  {
   "cell_type": "code",
   "execution_count": 46,
   "metadata": {
    "id": "F-WWRHiq76dO",
    "outputId": "2908939a-b66e-4034-991b-0557a7b3971e"
   },
   "outputs": [
    {
     "name": "stdout",
     "output_type": "stream",
     "text": [
      "0.88\n"
     ]
    }
   ],
   "source": [
    "# simplest accuracy counter\n",
    "\n",
    "acc_counter = 0\n",
    "\n",
    "for i in range(num_images):\n",
    "    if (matching_matrix[i][1] - num_images) == (matching_matrix[i][0]):\n",
    "        acc_counter += 1\n",
    "    else:\n",
    "        pass\n",
    "\n",
    "print(acc_counter/num_images)"
   ]
  },
  {
   "cell_type": "markdown",
   "metadata": {
    "id": "68KVkkBN76dM"
   },
   "source": [
    "Nice!!! 88% of accurate matching on 100-image dataset. \n",
    "Seems that even this simplest-simplest algorithm works. And Of course, there is a lot of room to improve it (like use greedy algorithms or some type of random search or something else)."
   ]
  },
  {
   "cell_type": "markdown",
   "metadata": {
    "id": "68KVkkBN76dM"
   },
   "source": [
    "OK, but what it is doing?\n",
    "1. first I've trained a binary classification NN model on a dataset consisting of real MNIST images and fakes (divided and shuffled real MNIST) for around 5000 iterations.\n",
    "\n",
    "2. then I took the trained weights to see how it is working: as an example took one half of original MNIST image, take say 1000 other halfs and calculated probabilities of being real/fake if these images are concatenated (1 stands for real, 0 for fake).\n",
    "\n",
    "3. finally, I wrote a simples O(n^2) matching algorithm that works on say 200 half-images dataset generated from 100 real MNIST ones. The algorithm\n",
    "*   takes one half-image and gets the highest match from remaining 199;\n",
    "*   deletes these two half-images and takes one from the remaining 198 images and gets the highest match;\n",
    "*   and so on generating a matching_matrix which has 100 rows each containing two numbers (xx, yy) standing for left and right halfs that if concatenated are seems to be real.\n",
    "\n",
    "Finally, I just took this matching_matrix and checked where yy - num_images == xx (which means that we have EXACT match)."
   ]
  },
  {
   "cell_type": "markdown",
   "metadata": {
    "id": "68KVkkBN76dM"
   },
   "source": [
    "Overall, this is a "
   ]
  },
  {
   "cell_type": "code",
   "execution_count": null,
   "metadata": {},
   "outputs": [],
   "source": []
  }
 ],
 "metadata": {
  "accelerator": "GPU",
  "anaconda-cloud": {},
  "colab": {
   "collapsed_sections": [],
   "name": "Ntropy_test.ipynb",
   "provenance": []
  },
  "kernelspec": {
   "display_name": "Python 3",
   "language": "python",
   "name": "python3"
  },
  "language_info": {
   "codemirror_mode": {
    "name": "ipython",
    "version": 3
   },
   "file_extension": ".py",
   "mimetype": "text/x-python",
   "name": "python",
   "nbconvert_exporter": "python",
   "pygments_lexer": "ipython3",
   "version": "3.8.5"
  },
  "toc": {
   "nav_menu": {},
   "number_sections": true,
   "sideBar": true,
   "skip_h1_title": false,
   "title_cell": "Table of Contents",
   "title_sidebar": "Contents",
   "toc_cell": false,
   "toc_position": {},
   "toc_section_display": true,
   "toc_window_display": false
  }
 },
 "nbformat": 4,
 "nbformat_minor": 4
}
